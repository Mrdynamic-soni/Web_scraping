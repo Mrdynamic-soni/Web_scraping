{
 "cells": [
  {
   "cell_type": "code",
   "execution_count": 1,
   "id": "ca29e8d1",
   "metadata": {},
   "outputs": [],
   "source": [
    "# library used to perform action\n",
    "import xlrd\n",
    "# from posixpath import split\n",
    "import requests\n",
    "import html5lib\n",
    "from bs4 import BeautifulSoup"
   ]
  },
  {
   "cell_type": "code",
   "execution_count": 2,
   "id": "18116131",
   "metadata": {},
   "outputs": [],
   "source": [
    "#User agent to tell website that it's a person  not a bot\n",
    "headers = {\n",
    "    'User-Agent': 'Mozilla/5.0 (Macintosh; Intel Mac OS X 10.12; rv:55.0) Gecko/20100101 Firefox/55.0',\n",
    "}\n"
   ]
  },
  {
   "cell_type": "code",
   "execution_count": 3,
   "id": "75733ed9",
   "metadata": {},
   "outputs": [
    {
     "ename": "XLRDError",
     "evalue": "Excel xlsx file; not supported",
     "output_type": "error",
     "traceback": [
      "\u001b[1;31m---------------------------------------------------------------------------\u001b[0m",
      "\u001b[1;31mXLRDError\u001b[0m                                 Traceback (most recent call last)",
      "\u001b[1;32m~\\AppData\\Local\\Temp/ipykernel_23572/50990832.py\u001b[0m in \u001b[0;36m<module>\u001b[1;34m\u001b[0m\n\u001b[0;32m      1\u001b[0m \u001b[1;31m#opening excel file where all the links are stored\u001b[0m\u001b[1;33m\u001b[0m\u001b[1;33m\u001b[0m\u001b[0m\n\u001b[1;32m----> 2\u001b[1;33m \u001b[0mwb\u001b[0m \u001b[1;33m=\u001b[0m \u001b[0mxlrd\u001b[0m\u001b[1;33m.\u001b[0m\u001b[0mopen_workbook\u001b[0m\u001b[1;33m(\u001b[0m\u001b[1;34m\"C:\\\\Users\\\\Acer\\\\Desktop\\\\black_coffer\\\\input.xlsx\"\u001b[0m\u001b[1;33m)\u001b[0m  \u001b[1;31m#opening complete workbook\u001b[0m\u001b[1;33m\u001b[0m\u001b[1;33m\u001b[0m\u001b[0m\n\u001b[0m\u001b[0;32m      3\u001b[0m \u001b[0msheet\u001b[0m \u001b[1;33m=\u001b[0m \u001b[0mwb\u001b[0m\u001b[1;33m.\u001b[0m\u001b[0msheet_by_index\u001b[0m\u001b[1;33m(\u001b[0m\u001b[1;36m0\u001b[0m\u001b[1;33m)\u001b[0m    \u001b[1;31m#opening particular worksheet i.e. excel\u001b[0m\u001b[1;33m\u001b[0m\u001b[1;33m\u001b[0m\u001b[0m\n\u001b[0;32m      4\u001b[0m \u001b[0msheet\u001b[0m\u001b[1;33m.\u001b[0m\u001b[0mcell_value\u001b[0m\u001b[1;33m(\u001b[0m\u001b[1;36m0\u001b[0m\u001b[1;33m,\u001b[0m\u001b[1;36m0\u001b[0m\u001b[1;33m)\u001b[0m  \u001b[1;31m#initial point of excel\u001b[0m\u001b[1;33m\u001b[0m\u001b[1;33m\u001b[0m\u001b[0m\n",
      "\u001b[1;32m~\\anaconda3\\lib\\site-packages\\xlrd\\__init__.py\u001b[0m in \u001b[0;36mopen_workbook\u001b[1;34m(filename, logfile, verbosity, use_mmap, file_contents, encoding_override, formatting_info, on_demand, ragged_rows, ignore_workbook_corruption)\u001b[0m\n\u001b[0;32m    168\u001b[0m     \u001b[1;31m# files that xlrd can parse don't start with the expected signature.\u001b[0m\u001b[1;33m\u001b[0m\u001b[1;33m\u001b[0m\u001b[0m\n\u001b[0;32m    169\u001b[0m     \u001b[1;32mif\u001b[0m \u001b[0mfile_format\u001b[0m \u001b[1;32mand\u001b[0m \u001b[0mfile_format\u001b[0m \u001b[1;33m!=\u001b[0m \u001b[1;34m'xls'\u001b[0m\u001b[1;33m:\u001b[0m\u001b[1;33m\u001b[0m\u001b[1;33m\u001b[0m\u001b[0m\n\u001b[1;32m--> 170\u001b[1;33m         \u001b[1;32mraise\u001b[0m \u001b[0mXLRDError\u001b[0m\u001b[1;33m(\u001b[0m\u001b[0mFILE_FORMAT_DESCRIPTIONS\u001b[0m\u001b[1;33m[\u001b[0m\u001b[0mfile_format\u001b[0m\u001b[1;33m]\u001b[0m\u001b[1;33m+\u001b[0m\u001b[1;34m'; not supported'\u001b[0m\u001b[1;33m)\u001b[0m\u001b[1;33m\u001b[0m\u001b[1;33m\u001b[0m\u001b[0m\n\u001b[0m\u001b[0;32m    171\u001b[0m \u001b[1;33m\u001b[0m\u001b[0m\n\u001b[0;32m    172\u001b[0m     bk = open_workbook_xls(\n",
      "\u001b[1;31mXLRDError\u001b[0m: Excel xlsx file; not supported"
     ]
    }
   ],
   "source": [
    "\n",
    "#opening excel file where all the links are stored\n",
    "wb = xlrd.open_workbook(\"C:\\\\Users\\\\Acer\\\\Desktop\\\\black_coffer\\\\input.xlsx\")  #opening complete workbook\n",
    "sheet = wb.sheet_by_index(0)    #opening particular worksheet i.e. excel\n",
    "sheet.cell_value(0,0)  #initial point of excel"
   ]
  },
  {
   "cell_type": "code",
   "execution_count": null,
   "id": "a388c009",
   "metadata": {},
   "outputs": [],
   "source": [
    "#iterraing on the  link to get the websites to get the data\n",
    "#thid below code is to iterating over the whole excel file and iterating over every links provided there and scraping data from website and storing that data into txt file for firther analysis\n",
    "for i in range(1,sheet.nrows+1): \n",
    "    print(sheet.cell_value(i,1)) # printing the data on thta particular cell\n",
    "    url = sheet.cell_value(i,1)  # storing that data in url to extract data in file\n",
    "    req = requests.get(url,headers=headers) # hitting wesite to scrape the data from that particular website\n",
    "    soup = BeautifulSoup(req.text,\"html.parser\")  # #using bs4 library to beautify the data scraaped from website\n",
    "    with open(f\"C:\\\\Users\\\\Acer\\\\Desktop\\\\black_coffer\\\\scraped_files\\\\{i}.txt\",\"a\", encoding='UTF-8')as file:  # creating diffirent file with filename as i.txt to store the scraped data from website\n",
    "        for item in soup.find_all('p'): #iterating over the website data \n",
    "            print(item.get_text())  # printing extractred data \n",
    "            file.write(item.get_text()) # append data in file\n",
    "            file.write(\"\\n\")"
   ]
  }
 ],
 "metadata": {
  "kernelspec": {
   "display_name": "Python 3 (ipykernel)",
   "language": "python",
   "name": "python3"
  },
  "language_info": {
   "codemirror_mode": {
    "name": "ipython",
    "version": 3
   },
   "file_extension": ".py",
   "mimetype": "text/x-python",
   "name": "python",
   "nbconvert_exporter": "python",
   "pygments_lexer": "ipython3",
   "version": "3.9.7"
  }
 },
 "nbformat": 4,
 "nbformat_minor": 5
}
